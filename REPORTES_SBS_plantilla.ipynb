{
 "cells": [
  {
   "cell_type": "markdown",
   "id": "6492bf98-c981-487e-9056-f1d3e5e0880f",
   "metadata": {},
   "source": [
    "## Quick Financial Report:"
   ]
  },
  {
   "cell_type": "markdown",
   "id": "678637ef-4334-4884-952b-d4316164573e",
   "metadata": {},
   "source": [
    "### Evolución de la Cartera de Créditos en Cajas Municipales"
   ]
  },
  {
   "cell_type": "markdown",
   "id": "a13a29c9-7f9d-48f8-86d9-220841b9e897",
   "metadata": {},
   "source": [
    "#### 1. Resumen Ejecutivo"
   ]
  },
  {
   "cell_type": "markdown",
   "id": "164019c1-8cb0-413d-b4a8-600266c756e5",
   "metadata": {},
   "source": [
    "##### En el último trimestre de 2024, el sector de las Cajas Municipales ha experimentado cambios significativos en la composición de su cartera de créditos, impulsados principalmente por la aplicación de la Resolución SBS N° 2368-2023. Esta normativa ha generado variaciones en la clasificación de los clientes, afectando la migración entre segmentos, los niveles de morosidad y la distribución de la cartera por tipo de crédito.\n",
    "\n",
    "##### El presente informe tiene como objetivo analizar la evolución reciente de la cartera de créditos en las Cajas Municipales, evaluando el impacto en la migración de clientes, los niveles de morosidad y la clasificación crediticia. A través de un enfoque comparativo, se presentan tendencias clave y su implicancia en la estabilidad financiera del sector, proporcionando información relevante para la toma de decisiones estratégicas."
   ]
  },
  {
   "cell_type": "markdown",
   "id": "676699b4-adb7-4a9f-9bc3-0e5c9a1595b4",
   "metadata": {},
   "source": [
    "  #### 2. Situación Actual de la Cartera de Clientes"
   ]
  },
  {
   "cell_type": "markdown",
   "id": "73af43eb-824b-4ba9-9f1e-b649074d3725",
   "metadata": {},
   "source": [
    "##### La evolución de la cartera de créditos en las Cajas Municipales muestra cambios significativos en la distribución de los saldos por tipo de empresa, influenciados por la aplicación de la Resolución SBS N° 2368-2023. A continuación, se presenta un análisis de los principales cambios en los saldos de colocaciones para los segmentos de Microempresa, Pequeña Empresa y Mediana Empresa, comparando su evolución en los últimos meses."
   ]
  },
  {
   "cell_type": "markdown",
   "id": "6dc7205d-6326-4b0c-a355-44ba998e3b8a",
   "metadata": {
    "jp-MarkdownHeadingCollapsed": true
   },
   "source": [
    "##### 2.1 Evolución de los Saldos de Crédito por Tipo de Empresa"
   ]
  },
  {
   "cell_type": "code",
   "execution_count": 8,
   "id": "d78ccfbe-68ff-40b5-ab0d-2010059e880d",
   "metadata": {},
   "outputs": [],
   "source": [
    "import pandas as pd"
   ]
  },
  {
   "cell_type": "code",
   "execution_count": 9,
   "id": "95a039ce-5898-43f0-8ebe-44a6a29adde4",
   "metadata": {},
   "outputs": [],
   "source": [
    "ruta = r'C:\\Users\\USER\\Downloads\\SBS'\n",
    "nombre = 'DATA_REPORT.xlsx'\n",
    "df = pd.read_excel(f'{ruta}//{nombre}')"
   ]
  },
  {
   "cell_type": "code",
   "execution_count": 10,
   "id": "5a6df60a-0dd5-4c71-aade-b9daaae73d4d",
   "metadata": {},
   "outputs": [],
   "source": [
    "cajas =df[df.columns[1] ].value_counts().index.tolist()\n",
    "tipo_credito = df[df.columns[2] ].value_counts().index.tolist()\n",
    "#Eliminamos 'TOTAL CAJAS MUNICIPALES DE AHORRO Y CREDITO',\n",
    "del cajas[12]"
   ]
  },
  {
   "cell_type": "code",
   "execution_count": 11,
   "id": "a3b45baf-4f00-4f49-b059-7449fe368521",
   "metadata": {},
   "outputs": [],
   "source": [
    "#SALDO DE CARTERA A SEPTIEMBRE\n",
    "cm_sep = {}\n",
    "for m in range(7):\n",
    "    analisis = df[(df[df.columns[1]] == cajas[-2]) & (df[df.columns[2]] == tipo_credito[m]) & (df[df.columns[0]] == '2024-09-01')][[df.columns[6]]].iloc[0,0]\n",
    "    cm_sep[m] = analisis\n",
    "cm_sep1 = list(cm_sep.values())"
   ]
  },
  {
   "cell_type": "code",
   "execution_count": 12,
   "id": "0d69e122-6ba9-4d15-9626-109765a55485",
   "metadata": {},
   "outputs": [],
   "source": [
    "#SALDO DE CARTERA A OCT-DICIEMBRE\n",
    "meses = ['2024-10-01','2024-11-01','2024-12-01']\n",
    "cm_oct_dic = {}\n",
    "data_mes = []\n",
    "for m in range(7):\n",
    "    data_mes = []\n",
    "    for n in range(3):\n",
    "        analisis = df[(df[df.columns[1]] == cajas[-2]) & (df[df.columns[2]] == tipo_credito[m]) & (df[df.columns[0]] == meses[n])][[df.columns[6]]].iloc[0,0]\n",
    "        data_mes.append(analisis)\n",
    "        cm_oct_dic[m] = data_mes\n",
    "#SALDO PROMEDIO\n",
    "cm_oct_dic_mean = []\n",
    "for m in range(7):\n",
    "    valor = sum(cm_oct_dic[m])/len(cm_oct_dic[m])\n",
    "    cm_oct_dic_mean.append(valor)"
   ]
  },
  {
   "cell_type": "code",
   "execution_count": 13,
   "id": "58013650-9340-4c1b-847f-bb8271c2ff01",
   "metadata": {},
   "outputs": [
    {
     "name": "stderr",
     "output_type": "stream",
     "text": [
      "C:\\Users\\USER\\AppData\\Local\\Temp\\ipykernel_8388\\2781243562.py:4: FutureWarning: DataFrame.applymap has been deprecated. Use DataFrame.map instead.\n",
      "  tabla1[[tabla1.columns[1], tabla1.columns[2]]] = tabla1[[tabla1.columns[1], tabla1.columns[2]]].applymap(lambda x: x/1000)\n",
      "C:\\Users\\USER\\AppData\\Local\\Temp\\ipykernel_8388\\2781243562.py:6: FutureWarning: DataFrame.applymap has been deprecated. Use DataFrame.map instead.\n",
      "  tabla1[[tabla1.columns[1], tabla1.columns[2], tabla1.columns[3]]] = tabla1[[tabla1.columns[1], tabla1.columns[2], tabla1.columns[3]]].applymap(lambda x: f\"{x:,.2f}\")\n"
     ]
    }
   ],
   "source": [
    "#GENERAMOS TABLA DE RESULTADOS\n",
    "tabla1 = pd.DataFrame({'Tipo Empresa':tipo_credito, \n",
    "                       'Saldo Colocaciones Sep-24':cm_sep1, 'Saldo Promedio Oct-Dic 24': cm_oct_dic_mean})\n",
    "tabla1[[tabla1.columns[1], tabla1.columns[2]]] = tabla1[[tabla1.columns[1], tabla1.columns[2]]].applymap(lambda x: x/1000)\n",
    "tabla1['Variacion R02368-2023'] = ((tabla1[tabla1.columns[2]] / tabla1[tabla1.columns[1]]) - 1)*100\n",
    "tabla1[[tabla1.columns[1], tabla1.columns[2], tabla1.columns[3]]] = tabla1[[tabla1.columns[1], tabla1.columns[2], tabla1.columns[3]]].applymap(lambda x: f\"{x:,.2f}\")\n",
    "orden_deseado = ['Corporativos', 'Grandes Empresas', 'Medianas Empresas',\n",
    "                 'Pequeñas Empresas', 'Micro Empresas', 'Hipotecarios', 'Consumo']\n",
    "# Convertir la columna en una categoría con el orden específico\n",
    "tabla1[\"Tipo Empresa\"] = pd.Categorical(tabla1[\"Tipo Empresa\"], categories=orden_deseado, ordered=True)\n",
    "# Ordenar el DataFrame\n",
    "tabla1 = tabla1.sort_values(\"Tipo Empresa\").reset_index(drop=True)"
   ]
  },
  {
   "cell_type": "markdown",
   "id": "a82bbc19-0aaa-40fb-bc00-328a776ea554",
   "metadata": {},
   "source": [
    "##### En el último trimestre de 2024, los saldos de colocaciones han presentado las siguientes variaciones:"
   ]
  },
  {
   "cell_type": "code",
   "execution_count": 15,
   "id": "6964be6d-0df5-470a-9883-02070f3b3c05",
   "metadata": {},
   "outputs": [
    {
     "data": {
      "text/html": [
       "<div>\n",
       "<style scoped>\n",
       "    .dataframe tbody tr th:only-of-type {\n",
       "        vertical-align: middle;\n",
       "    }\n",
       "\n",
       "    .dataframe tbody tr th {\n",
       "        vertical-align: top;\n",
       "    }\n",
       "\n",
       "    .dataframe thead th {\n",
       "        text-align: right;\n",
       "    }\n",
       "</style>\n",
       "<table border=\"1\" class=\"dataframe\">\n",
       "  <thead>\n",
       "    <tr style=\"text-align: right;\">\n",
       "      <th></th>\n",
       "      <th>Tipo Empresa</th>\n",
       "      <th>Saldo Colocaciones Sep-24</th>\n",
       "      <th>Saldo Promedio Oct-Dic 24</th>\n",
       "      <th>Variacion R02368-2023</th>\n",
       "    </tr>\n",
       "  </thead>\n",
       "  <tbody>\n",
       "    <tr>\n",
       "      <th>0</th>\n",
       "      <td>Corporativos</td>\n",
       "      <td>199.00</td>\n",
       "      <td>225.49</td>\n",
       "      <td>13.31</td>\n",
       "    </tr>\n",
       "    <tr>\n",
       "      <th>1</th>\n",
       "      <td>Grandes Empresas</td>\n",
       "      <td>64.36</td>\n",
       "      <td>88.28</td>\n",
       "      <td>37.18</td>\n",
       "    </tr>\n",
       "    <tr>\n",
       "      <th>2</th>\n",
       "      <td>Medianas Empresas</td>\n",
       "      <td>1,752.60</td>\n",
       "      <td>229.71</td>\n",
       "      <td>-86.89</td>\n",
       "    </tr>\n",
       "    <tr>\n",
       "      <th>3</th>\n",
       "      <td>Pequeñas Empresas</td>\n",
       "      <td>18,099.73</td>\n",
       "      <td>22,842.77</td>\n",
       "      <td>26.21</td>\n",
       "    </tr>\n",
       "    <tr>\n",
       "      <th>4</th>\n",
       "      <td>Micro Empresas</td>\n",
       "      <td>6,642.88</td>\n",
       "      <td>4,108.09</td>\n",
       "      <td>-38.16</td>\n",
       "    </tr>\n",
       "    <tr>\n",
       "      <th>5</th>\n",
       "      <td>Hipotecarios</td>\n",
       "      <td>1,588.86</td>\n",
       "      <td>1,587.32</td>\n",
       "      <td>-0.10</td>\n",
       "    </tr>\n",
       "    <tr>\n",
       "      <th>6</th>\n",
       "      <td>Consumo</td>\n",
       "      <td>7,070.47</td>\n",
       "      <td>7,137.28</td>\n",
       "      <td>0.94</td>\n",
       "    </tr>\n",
       "  </tbody>\n",
       "</table>\n",
       "</div>"
      ],
      "text/plain": [
       "        Tipo Empresa Saldo Colocaciones Sep-24 Saldo Promedio Oct-Dic 24  \\\n",
       "0       Corporativos                    199.00                    225.49   \n",
       "1   Grandes Empresas                     64.36                     88.28   \n",
       "2  Medianas Empresas                  1,752.60                    229.71   \n",
       "3  Pequeñas Empresas                 18,099.73                 22,842.77   \n",
       "4     Micro Empresas                  6,642.88                  4,108.09   \n",
       "5       Hipotecarios                  1,588.86                  1,587.32   \n",
       "6            Consumo                  7,070.47                  7,137.28   \n",
       "\n",
       "  Variacion R02368-2023  \n",
       "0                 13.31  \n",
       "1                 37.18  \n",
       "2                -86.89  \n",
       "3                 26.21  \n",
       "4                -38.16  \n",
       "5                 -0.10  \n",
       "6                  0.94  "
      ]
     },
     "execution_count": 15,
     "metadata": {},
     "output_type": "execute_result"
    }
   ],
   "source": [
    "tabla1"
   ]
  },
  {
   "cell_type": "markdown",
   "id": "3067e118-310b-4eb7-a543-ead1ed934ea5",
   "metadata": {},
   "source": [
    "##### Análisis de los resultados:\n",
    "\n",
    "##### - Microempresas: El saldo total pasó de S/6,642.88 millones a S/4,108.09 millones, lo que representa una variación de -38.16%. Esta disminución refleja una migración significativa de clientes hacia otros segmentos, posiblemente debido a la reclasificación de clientes bajo la nueva normativa.\n",
    "\n",
    "##### - Se observa un incremento en el saldo de S/18,099.73 millones a S/22,842.77 millones, equivalente a una variación de 26.21%. Este aumento sugiere que muchas medianas empresas han sido reclasificadas como pequeñas empresas, lo que ha generado un ajuste en la estructura de la cartera.\n",
    "\n",
    "##### - Mediana Empresa: Se evidencia una disminución significativa del saldo de S/1,752.60 millones a S/229.71 millones, con una variación de -86.89%. Este comportamiento confirma la migración de clientes de mediana empresa hacia el segmento de pequeñas empresas.\n",
    "\n",
    "##### Este comportamiento refleja la migración de clientes entre segmentos, particularmente el traslado de clientes de Mediana Empresa hacia Pequeña Empresa, lo que ha generado un ajuste en la estructura de la cartera."
   ]
  },
  {
   "cell_type": "markdown",
   "id": "58894a17-8b8d-4286-abc5-962cb9104d64",
   "metadata": {
    "jp-MarkdownHeadingCollapsed": true
   },
   "source": [
    "##### 2.2 Comparación Interanual y Tendencias"
   ]
  },
  {
   "cell_type": "code",
   "execution_count": 18,
   "id": "d37920a1-34e1-4b73-bc0b-264e095e45f0",
   "metadata": {},
   "outputs": [],
   "source": [
    "#SALDO DE CARTERA A OCT-DICIEMBRE DEL 2023\n",
    "meses = ['2023-10-01','2023-11-01','2023-12-01']\n",
    "cm_oct_dic_23 = {}\n",
    "data_mes = []\n",
    "for m in range(7):\n",
    "    data_mes = []\n",
    "    for n in range(3):\n",
    "        analisis = df[(df[df.columns[1]] == cajas[-2]) & (df[df.columns[2]] == tipo_credito[m]) & (df[df.columns[0]] == meses[n])][[df.columns[6]]].iloc[0,0]\n",
    "        data_mes.append(analisis)\n",
    "        cm_oct_dic_23[m] = data_mes\n",
    "#SALDO PROMEDIO\n",
    "cm_oct_dic_mean_23 = []\n",
    "for m in range(7):\n",
    "    valor = sum(cm_oct_dic_23[m])/len(cm_oct_dic_23[m])\n",
    "    cm_oct_dic_mean_23.append(valor)"
   ]
  },
  {
   "cell_type": "code",
   "execution_count": 19,
   "id": "4385a858-5981-4b89-865f-99d3cc95e92e",
   "metadata": {},
   "outputs": [
    {
     "name": "stderr",
     "output_type": "stream",
     "text": [
      "C:\\Users\\USER\\AppData\\Local\\Temp\\ipykernel_8388\\1492869367.py:4: FutureWarning: DataFrame.applymap has been deprecated. Use DataFrame.map instead.\n",
      "  tabla2[[tabla2.columns[1], tabla2.columns[2]]] = tabla2[[tabla2.columns[1], tabla2.columns[2]]].applymap(lambda x: x/1000)\n",
      "C:\\Users\\USER\\AppData\\Local\\Temp\\ipykernel_8388\\1492869367.py:7: FutureWarning: DataFrame.applymap has been deprecated. Use DataFrame.map instead.\n",
      "  tabla2[[tabla2.columns[1], tabla2.columns[2], tabla2.columns[3],tabla2.columns[4]]] = tabla2[[tabla2.columns[1], tabla2.columns[2], tabla2.columns[3],tabla2.columns[4]]].applymap(lambda x: f\"{x:,.2f}\")\n"
     ]
    }
   ],
   "source": [
    "#GENERAMOS TABLA DE RESULTADOS\n",
    "tabla2 = pd.DataFrame({'Tipo Empresa':tipo_credito, \n",
    "                       'Saldo Promedio Oct-Dic 23':cm_oct_dic_mean_23, 'Saldo Promedio Oct-Dic 24': cm_oct_dic_mean})\n",
    "tabla2[[tabla2.columns[1], tabla2.columns[2]]] = tabla2[[tabla2.columns[1], tabla2.columns[2]]].applymap(lambda x: x/1000)\n",
    "tabla2['Diferencia R02368-2023'] = tabla2[tabla2.columns[2]] - tabla2[tabla2.columns[1]]\n",
    "tabla2['Variacion R02368-2023'] = ((tabla2[tabla2.columns[2]] / tabla2[tabla2.columns[1]]) - 1)*100\n",
    "tabla2[[tabla2.columns[1], tabla2.columns[2], tabla2.columns[3],tabla2.columns[4]]] = tabla2[[tabla2.columns[1], tabla2.columns[2], tabla2.columns[3],tabla2.columns[4]]].applymap(lambda x: f\"{x:,.2f}\")\n",
    "# Convertir la columna en una categoría con el orden específico\n",
    "tabla2[\"Tipo Empresa\"] = pd.Categorical(tabla2[\"Tipo Empresa\"], categories=orden_deseado, ordered=True)\n",
    "# Ordenar el DataFrame\n",
    "tabla2 = tabla2.sort_values(\"Tipo Empresa\").reset_index(drop=True)"
   ]
  },
  {
   "cell_type": "markdown",
   "id": "026ddef9-ac44-42f6-be9d-0d5eaf05fdec",
   "metadata": {},
   "source": [
    "##### Al comparar los saldos actuales con el mismo periodo del año anterior, se identifican los siguientes cambios:"
   ]
  },
  {
   "cell_type": "code",
   "execution_count": 21,
   "id": "c0078e65-beb1-44df-ac77-f2ad1a7700ae",
   "metadata": {},
   "outputs": [
    {
     "data": {
      "text/html": [
       "<div>\n",
       "<style scoped>\n",
       "    .dataframe tbody tr th:only-of-type {\n",
       "        vertical-align: middle;\n",
       "    }\n",
       "\n",
       "    .dataframe tbody tr th {\n",
       "        vertical-align: top;\n",
       "    }\n",
       "\n",
       "    .dataframe thead th {\n",
       "        text-align: right;\n",
       "    }\n",
       "</style>\n",
       "<table border=\"1\" class=\"dataframe\">\n",
       "  <thead>\n",
       "    <tr style=\"text-align: right;\">\n",
       "      <th></th>\n",
       "      <th>Tipo Empresa</th>\n",
       "      <th>Saldo Promedio Oct-Dic 23</th>\n",
       "      <th>Saldo Promedio Oct-Dic 24</th>\n",
       "      <th>Diferencia R02368-2023</th>\n",
       "      <th>Variacion R02368-2023</th>\n",
       "    </tr>\n",
       "  </thead>\n",
       "  <tbody>\n",
       "    <tr>\n",
       "      <th>0</th>\n",
       "      <td>Corporativos</td>\n",
       "      <td>188.83</td>\n",
       "      <td>225.49</td>\n",
       "      <td>36.66</td>\n",
       "      <td>19.42</td>\n",
       "    </tr>\n",
       "    <tr>\n",
       "      <th>1</th>\n",
       "      <td>Grandes Empresas</td>\n",
       "      <td>58.41</td>\n",
       "      <td>88.28</td>\n",
       "      <td>29.87</td>\n",
       "      <td>51.15</td>\n",
       "    </tr>\n",
       "    <tr>\n",
       "      <th>2</th>\n",
       "      <td>Medianas Empresas</td>\n",
       "      <td>1,894.00</td>\n",
       "      <td>229.71</td>\n",
       "      <td>-1,664.29</td>\n",
       "      <td>-87.87</td>\n",
       "    </tr>\n",
       "    <tr>\n",
       "      <th>3</th>\n",
       "      <td>Pequeñas Empresas</td>\n",
       "      <td>17,782.09</td>\n",
       "      <td>22,842.77</td>\n",
       "      <td>5,060.68</td>\n",
       "      <td>28.46</td>\n",
       "    </tr>\n",
       "    <tr>\n",
       "      <th>4</th>\n",
       "      <td>Micro Empresas</td>\n",
       "      <td>6,928.74</td>\n",
       "      <td>4,108.09</td>\n",
       "      <td>-2,820.65</td>\n",
       "      <td>-40.71</td>\n",
       "    </tr>\n",
       "    <tr>\n",
       "      <th>5</th>\n",
       "      <td>Hipotecarios</td>\n",
       "      <td>1,569.50</td>\n",
       "      <td>1,587.32</td>\n",
       "      <td>17.83</td>\n",
       "      <td>1.14</td>\n",
       "    </tr>\n",
       "    <tr>\n",
       "      <th>6</th>\n",
       "      <td>Consumo</td>\n",
       "      <td>7,456.34</td>\n",
       "      <td>7,137.28</td>\n",
       "      <td>-319.06</td>\n",
       "      <td>-4.28</td>\n",
       "    </tr>\n",
       "  </tbody>\n",
       "</table>\n",
       "</div>"
      ],
      "text/plain": [
       "        Tipo Empresa Saldo Promedio Oct-Dic 23 Saldo Promedio Oct-Dic 24  \\\n",
       "0       Corporativos                    188.83                    225.49   \n",
       "1   Grandes Empresas                     58.41                     88.28   \n",
       "2  Medianas Empresas                  1,894.00                    229.71   \n",
       "3  Pequeñas Empresas                 17,782.09                 22,842.77   \n",
       "4     Micro Empresas                  6,928.74                  4,108.09   \n",
       "5       Hipotecarios                  1,569.50                  1,587.32   \n",
       "6            Consumo                  7,456.34                  7,137.28   \n",
       "\n",
       "  Diferencia R02368-2023 Variacion R02368-2023  \n",
       "0                  36.66                 19.42  \n",
       "1                  29.87                 51.15  \n",
       "2              -1,664.29                -87.87  \n",
       "3               5,060.68                 28.46  \n",
       "4              -2,820.65                -40.71  \n",
       "5                  17.83                  1.14  \n",
       "6                -319.06                 -4.28  "
      ]
     },
     "execution_count": 21,
     "metadata": {},
     "output_type": "execute_result"
    }
   ],
   "source": [
    "tabla2"
   ]
  },
  {
   "cell_type": "markdown",
   "id": "ffcf733a-6686-4f47-9655-3ef41aee2d51",
   "metadata": {},
   "source": [
    "##### Interpretación de las tendencias:\n",
    "\n",
    "##### - Microempresas: La variación interanual muestra una reducción de S/-2,820.65 millones, equivalente a -40.71%. Este descenso indica una migración de clientes hacia otros segmentos, posiblemente debido a la reclasificación y a la búsqueda de mejores condiciones crediticias.\n",
    "\n",
    "##### - Pequeñas Empresas: El incremento de S/5,060.68 millones (28.46%) refleja la absorción de clientes provenientes de las medianas empresas, lo que ha fortalecido este segmento.\n",
    "\n",
    "##### - Medianas Empresas: La caída de S/-1,664.29 millones (-87.87%) confirma la migración masiva de clientes hacia el segmento de pequeñas empresas, lo que ha generado un ajuste significativo en la estructura de la cartera.\n",
    "\n",
    "##### Estos datos permiten identificar tendencias clave, como el crecimiento o contracción de ciertos segmentos, y su impacto en la estructura de la cartera de las Cajas Municipales."
   ]
  },
  {
   "cell_type": "markdown",
   "id": "84797bf9-8354-434a-9edd-ed55c071394e",
   "metadata": {},
   "source": [
    "##### 2.3 Migración de Clientes entre Segmentos"
   ]
  },
  {
   "cell_type": "markdown",
   "id": "b4addb92-11bc-41f7-b799-3a6b909012b1",
   "metadata": {
    "jp-MarkdownHeadingCollapsed": true
   },
   "source": [
    "##### Uno de los efectos más significativos de la Resolución SBS N° 2368-2023 en las Cajas Municipales ha sido la migración de clientes de Mediana Empresa a Pequeña Empresa. Este fenómeno ha impactado la concentración de la cartera y la segmentación del riesgo, modificando la estructura del portafolio crediticio."
   ]
  },
  {
   "cell_type": "code",
   "execution_count": 25,
   "id": "73927794-6d04-45a2-8098-87e6b6d83bdb",
   "metadata": {},
   "outputs": [],
   "source": [
    "#NUMERO DE CLIENTES A OCT-DICIEMBRE\n",
    "meses = ['2024-09-01','2024-10-01','2024-11-01','2024-12-01']\n",
    "nd_set_dic = {}\n",
    "data_mes = []\n",
    "for n in range(4):\n",
    "    data_mes = []\n",
    "    for m in range(7):\n",
    "        analisis = df[(df[df.columns[1]] == cajas[-2]) & (df[df.columns[2]] == tipo_credito[m]) & (df[df.columns[0]] == meses[n])][[df.columns[7]]].iloc[0,0]\n",
    "        data_mes.append(analisis)\n",
    "        nd_set_dic[n] = data_mes"
   ]
  },
  {
   "cell_type": "code",
   "execution_count": 26,
   "id": "2727ac5f-a1ce-4ff6-abc3-43de502d25c0",
   "metadata": {},
   "outputs": [
    {
     "name": "stderr",
     "output_type": "stream",
     "text": [
      "C:\\Users\\USER\\AppData\\Local\\Temp\\ipykernel_8388\\3161460176.py:12: FutureWarning: DataFrame.applymap has been deprecated. Use DataFrame.map instead.\n",
      "  tabla3.columns[4],tabla3.columns[5],tabla3.columns[6]]].applymap(lambda x: f\"{x:,.2f}\")\n"
     ]
    }
   ],
   "source": [
    "#GENERAMOS TABLA DE RESULTADOS\n",
    "tabla3 = pd.DataFrame({'Tipo Empresa':tipo_credito, \n",
    "                       'Septiembre-2024':nd_set_dic[0], \n",
    "                       'Octubre-2024':nd_set_dic[1],\n",
    "                       'Noviembre-2024':nd_set_dic[2],\n",
    "                       'Diciembre-2024':nd_set_dic[3]})\n",
    "tabla3['Diferencia R02368-2023'] = tabla3[tabla3.columns[4]] - tabla3[tabla3.columns[1]]\n",
    "tabla3['Variacion R02368-2023'] = ((tabla3[tabla3.columns[4]] / tabla3[tabla3.columns[1]]) - 1)*100\n",
    "tabla3[[tabla3.columns[1], tabla3.columns[2], \n",
    "        tabla3.columns[3],tabla3.columns[4],\n",
    "        tabla3.columns[5],tabla3.columns[6]]] = tabla3[[tabla3.columns[1], tabla3.columns[2], tabla3.columns[3],\n",
    "                                                        tabla3.columns[4],tabla3.columns[5],tabla3.columns[6]]].applymap(lambda x: f\"{x:,.2f}\")\n",
    "# Convertir la columna en una categoría con el orden específico\n",
    "tabla3[\"Tipo Empresa\"] = pd.Categorical(tabla3[\"Tipo Empresa\"], categories=orden_deseado, ordered=True)\n",
    "# Ordenar el DataFrame\n",
    "tabla3 = tabla3.sort_values(\"Tipo Empresa\").reset_index(drop=True)"
   ]
  },
  {
   "cell_type": "markdown",
   "id": "c6cf00ec-8bf1-4022-8db1-22217f05895d",
   "metadata": {},
   "source": [
    "##### Análisis de Clientes que Pasaron de Mediana Empresa a Pequeña Empresa"
   ]
  },
  {
   "cell_type": "code",
   "execution_count": 28,
   "id": "7c9c0563-03e9-456d-bad5-98350ee947ac",
   "metadata": {},
   "outputs": [
    {
     "data": {
      "text/html": [
       "<div>\n",
       "<style scoped>\n",
       "    .dataframe tbody tr th:only-of-type {\n",
       "        vertical-align: middle;\n",
       "    }\n",
       "\n",
       "    .dataframe tbody tr th {\n",
       "        vertical-align: top;\n",
       "    }\n",
       "\n",
       "    .dataframe thead th {\n",
       "        text-align: right;\n",
       "    }\n",
       "</style>\n",
       "<table border=\"1\" class=\"dataframe\">\n",
       "  <thead>\n",
       "    <tr style=\"text-align: right;\">\n",
       "      <th></th>\n",
       "      <th>Tipo Empresa</th>\n",
       "      <th>Septiembre-2024</th>\n",
       "      <th>Octubre-2024</th>\n",
       "      <th>Noviembre-2024</th>\n",
       "      <th>Diciembre-2024</th>\n",
       "      <th>Diferencia R02368-2023</th>\n",
       "      <th>Variacion R02368-2023</th>\n",
       "    </tr>\n",
       "  </thead>\n",
       "  <tbody>\n",
       "    <tr>\n",
       "      <th>0</th>\n",
       "      <td>Corporativos</td>\n",
       "      <td>7.00</td>\n",
       "      <td>9.00</td>\n",
       "      <td>9.00</td>\n",
       "      <td>9.00</td>\n",
       "      <td>2.00</td>\n",
       "      <td>28.57</td>\n",
       "    </tr>\n",
       "    <tr>\n",
       "      <th>1</th>\n",
       "      <td>Grandes Empresas</td>\n",
       "      <td>32.00</td>\n",
       "      <td>45.00</td>\n",
       "      <td>47.00</td>\n",
       "      <td>50.00</td>\n",
       "      <td>18.00</td>\n",
       "      <td>56.25</td>\n",
       "    </tr>\n",
       "    <tr>\n",
       "      <th>2</th>\n",
       "      <td>Medianas Empresas</td>\n",
       "      <td>5,970.00</td>\n",
       "      <td>387.00</td>\n",
       "      <td>467.00</td>\n",
       "      <td>525.00</td>\n",
       "      <td>-5,445.00</td>\n",
       "      <td>-91.21</td>\n",
       "    </tr>\n",
       "    <tr>\n",
       "      <th>3</th>\n",
       "      <td>Pequeñas Empresas</td>\n",
       "      <td>442,293.00</td>\n",
       "      <td>553,911.00</td>\n",
       "      <td>561,388.00</td>\n",
       "      <td>566,952.00</td>\n",
       "      <td>124,659.00</td>\n",
       "      <td>28.18</td>\n",
       "    </tr>\n",
       "    <tr>\n",
       "      <th>4</th>\n",
       "      <td>Micro Empresas</td>\n",
       "      <td>1,109,183.00</td>\n",
       "      <td>1,015,227.00</td>\n",
       "      <td>1,015,119.00</td>\n",
       "      <td>1,015,416.00</td>\n",
       "      <td>-93,767.00</td>\n",
       "      <td>-8.45</td>\n",
       "    </tr>\n",
       "    <tr>\n",
       "      <th>5</th>\n",
       "      <td>Hipotecarios</td>\n",
       "      <td>21,003.00</td>\n",
       "      <td>20,980.00</td>\n",
       "      <td>20,937.00</td>\n",
       "      <td>20,884.00</td>\n",
       "      <td>-119.00</td>\n",
       "      <td>-0.57</td>\n",
       "    </tr>\n",
       "    <tr>\n",
       "      <th>6</th>\n",
       "      <td>Consumo</td>\n",
       "      <td>831,481.00</td>\n",
       "      <td>841,037.00</td>\n",
       "      <td>847,203.00</td>\n",
       "      <td>845,165.00</td>\n",
       "      <td>13,684.00</td>\n",
       "      <td>1.65</td>\n",
       "    </tr>\n",
       "  </tbody>\n",
       "</table>\n",
       "</div>"
      ],
      "text/plain": [
       "        Tipo Empresa Septiembre-2024  Octubre-2024 Noviembre-2024  \\\n",
       "0       Corporativos            7.00          9.00           9.00   \n",
       "1   Grandes Empresas           32.00         45.00          47.00   \n",
       "2  Medianas Empresas        5,970.00        387.00         467.00   \n",
       "3  Pequeñas Empresas      442,293.00    553,911.00     561,388.00   \n",
       "4     Micro Empresas    1,109,183.00  1,015,227.00   1,015,119.00   \n",
       "5       Hipotecarios       21,003.00     20,980.00      20,937.00   \n",
       "6            Consumo      831,481.00    841,037.00     847,203.00   \n",
       "\n",
       "  Diciembre-2024 Diferencia R02368-2023 Variacion R02368-2023  \n",
       "0           9.00                   2.00                 28.57  \n",
       "1          50.00                  18.00                 56.25  \n",
       "2         525.00              -5,445.00                -91.21  \n",
       "3     566,952.00             124,659.00                 28.18  \n",
       "4   1,015,416.00             -93,767.00                 -8.45  \n",
       "5      20,884.00                -119.00                 -0.57  \n",
       "6     845,165.00              13,684.00                  1.65  "
      ]
     },
     "execution_count": 28,
     "metadata": {},
     "output_type": "execute_result"
    }
   ],
   "source": [
    "tabla3"
   ]
  },
  {
   "cell_type": "markdown",
   "id": "d1b5ec28-4634-4597-8d47-670ca04aba4c",
   "metadata": {},
   "source": [
    "##### Análisis de la migración de clientes:\n",
    "\n",
    "##### Mediana Empresa: Durante el último trimestre de 2024, se ha observado una reducción en el número de clientes clasificados en este segmento. 5,445 clientes migraron a otras tipologías de créditos, lo que representa una reducción del 91.21% respecto a septiembre.\n",
    "\n",
    "##### Microempresas: 93,767 clientes migraron a otras tipologías de créditos, lo que representa una reducción del 8.45% respecto a septiembre.\n",
    "\n",
    "##### Pequeñas Empresas: 124,659 clientes migraron a este segmento, lo que representa un aumento del 28.18% respecto a septiembre."
   ]
  },
  {
   "cell_type": "markdown",
   "id": "fef40842-b609-40d9-b943-3b681145efce",
   "metadata": {
    "jp-MarkdownHeadingCollapsed": true
   },
   "source": [
    "##### 3. Impacto en la composición de la cartera:"
   ]
  },
  {
   "cell_type": "code",
   "execution_count": 31,
   "id": "81558a94-13f9-40f8-8040-3869ee5b452f",
   "metadata": {},
   "outputs": [],
   "source": [
    "cm_dic23 = {}\n",
    "for m in range(7):\n",
    "    analisis = df[(df[df.columns[1]] == cajas[-2]) & (df[df.columns[2]] == tipo_credito[m]) & (df[df.columns[0]] == '2023-12-01')][[df.columns[6]]].iloc[0,0]\n",
    "    cm_dic23[m] = analisis\n",
    "cm_dic23_1 = list(cm_dic23.values())\n",
    "\n",
    "cm_dic24 = {}\n",
    "for m in range(7):\n",
    "    analisis = df[(df[df.columns[1]] == cajas[-2]) & (df[df.columns[2]] == tipo_credito[m]) & (df[df.columns[0]] == '2024-12-01')][[df.columns[6]]].iloc[0,0]\n",
    "    cm_dic24[m] = analisis\n",
    "cm_dic24_1 = list(cm_dic24.values())\n",
    "\n",
    "\n",
    "part_dic23 = []\n",
    "part_sep24 = []\n",
    "part_dic24 = []\n",
    "for m in range(7):\n",
    "    valor1 = round((cm_dic23_1[m]/sum(cm_dic23_1))*100,2)\n",
    "    valor2 = round((cm_sep1[m]/sum(cm_sep1))*100,2)\n",
    "    valor3 = round((cm_dic24_1[m]/sum(cm_dic24_1))*100,2)    \n",
    "    part_dic23.append(valor1)\n",
    "    part_sep24.append(valor2)\n",
    "    part_dic24.append(valor3)"
   ]
  },
  {
   "cell_type": "code",
   "execution_count": 32,
   "id": "971ae52a-c440-4098-ab89-3109960cd573",
   "metadata": {},
   "outputs": [
    {
     "name": "stderr",
     "output_type": "stream",
     "text": [
      "C:\\Users\\USER\\AppData\\Local\\Temp\\ipykernel_8388\\3505577738.py:9: FutureWarning: DataFrame.applymap has been deprecated. Use DataFrame.map instead.\n",
      "  tabla4[[tabla4.columns[1], tabla4.columns[2], tabla4.columns[3]]] = tabla4[[tabla4.columns[1], tabla4.columns[2], tabla4.columns[3]]].applymap(lambda x: f\"{x:,.2f}\")\n"
     ]
    }
   ],
   "source": [
    "#GENERAMOS TABLA DE RESULTADOS\n",
    "tabla4 = pd.DataFrame({'Tipo Empresa':tipo_credito, \n",
    "                       'Participación a Dic-23':part_dic23, \n",
    "                       'Participación a Sep-24':part_sep24, \n",
    "                       'Participación Dic24': part_dic24})\n",
    "\n",
    "tabla4['Variacion anual'] = round(((tabla4[tabla4.columns[3]] / tabla4[tabla4.columns[1]]) - 1)*100,2)\n",
    "tabla4['Variacion mensual'] = round(((tabla4[tabla4.columns[3]] / tabla4[tabla4.columns[2]]) - 1)*100,2)\n",
    "tabla4[[tabla4.columns[1], tabla4.columns[2], tabla4.columns[3]]] = tabla4[[tabla4.columns[1], tabla4.columns[2], tabla4.columns[3]]].applymap(lambda x: f\"{x:,.2f}\")\n",
    "# Convertir la columna en una categoría con el orden específico\n",
    "tabla4[\"Tipo Empresa\"] = pd.Categorical(tabla4[\"Tipo Empresa\"], categories=orden_deseado, ordered=True)\n",
    "\n",
    "# Ordenar el DataFrame\n",
    "tabla4 = tabla4.sort_values(\"Tipo Empresa\").reset_index(drop=True)"
   ]
  },
  {
   "cell_type": "markdown",
   "id": "78055a28-a8d2-469e-af12-9a0ab8071b72",
   "metadata": {},
   "source": [
    "##### El movimiento de clientes entre segmentos ha generado un cambio en la composición de la cartera de las Cajas Municipales. Comparando las participaciones de diciembre 2023, septiembre 2024 y diciembre 2024, se pueden observar las siguientes tendencias:"
   ]
  },
  {
   "cell_type": "code",
   "execution_count": 34,
   "id": "deba7c75-4e16-4c93-acf3-3aa042132fdd",
   "metadata": {},
   "outputs": [
    {
     "data": {
      "text/html": [
       "<div>\n",
       "<style scoped>\n",
       "    .dataframe tbody tr th:only-of-type {\n",
       "        vertical-align: middle;\n",
       "    }\n",
       "\n",
       "    .dataframe tbody tr th {\n",
       "        vertical-align: top;\n",
       "    }\n",
       "\n",
       "    .dataframe thead th {\n",
       "        text-align: right;\n",
       "    }\n",
       "</style>\n",
       "<table border=\"1\" class=\"dataframe\">\n",
       "  <thead>\n",
       "    <tr style=\"text-align: right;\">\n",
       "      <th></th>\n",
       "      <th>Tipo Empresa</th>\n",
       "      <th>Participación a Dic-23</th>\n",
       "      <th>Participación a Sep-24</th>\n",
       "      <th>Participación Dic24</th>\n",
       "      <th>Variacion anual</th>\n",
       "      <th>Variacion mensual</th>\n",
       "    </tr>\n",
       "  </thead>\n",
       "  <tbody>\n",
       "    <tr>\n",
       "      <th>0</th>\n",
       "      <td>Corporativos</td>\n",
       "      <td>0.52</td>\n",
       "      <td>0.56</td>\n",
       "      <td>0.66</td>\n",
       "      <td>26.92</td>\n",
       "      <td>17.86</td>\n",
       "    </tr>\n",
       "    <tr>\n",
       "      <th>1</th>\n",
       "      <td>Grandes Empresas</td>\n",
       "      <td>0.16</td>\n",
       "      <td>0.18</td>\n",
       "      <td>0.24</td>\n",
       "      <td>50.00</td>\n",
       "      <td>33.33</td>\n",
       "    </tr>\n",
       "    <tr>\n",
       "      <th>2</th>\n",
       "      <td>Medianas Empresas</td>\n",
       "      <td>5.26</td>\n",
       "      <td>4.95</td>\n",
       "      <td>0.67</td>\n",
       "      <td>-87.26</td>\n",
       "      <td>-86.46</td>\n",
       "    </tr>\n",
       "    <tr>\n",
       "      <th>3</th>\n",
       "      <td>Pequeñas Empresas</td>\n",
       "      <td>49.74</td>\n",
       "      <td>51.10</td>\n",
       "      <td>63.26</td>\n",
       "      <td>27.18</td>\n",
       "      <td>23.80</td>\n",
       "    </tr>\n",
       "    <tr>\n",
       "      <th>4</th>\n",
       "      <td>Micro Empresas</td>\n",
       "      <td>19.27</td>\n",
       "      <td>18.76</td>\n",
       "      <td>11.25</td>\n",
       "      <td>-41.62</td>\n",
       "      <td>-40.03</td>\n",
       "    </tr>\n",
       "    <tr>\n",
       "      <th>5</th>\n",
       "      <td>Hipotecarios</td>\n",
       "      <td>4.36</td>\n",
       "      <td>4.49</td>\n",
       "      <td>4.34</td>\n",
       "      <td>-0.46</td>\n",
       "      <td>-3.34</td>\n",
       "    </tr>\n",
       "    <tr>\n",
       "      <th>6</th>\n",
       "      <td>Consumo</td>\n",
       "      <td>20.69</td>\n",
       "      <td>19.96</td>\n",
       "      <td>19.57</td>\n",
       "      <td>-5.41</td>\n",
       "      <td>-1.95</td>\n",
       "    </tr>\n",
       "  </tbody>\n",
       "</table>\n",
       "</div>"
      ],
      "text/plain": [
       "        Tipo Empresa Participación a Dic-23 Participación a Sep-24  \\\n",
       "0       Corporativos                   0.52                   0.56   \n",
       "1   Grandes Empresas                   0.16                   0.18   \n",
       "2  Medianas Empresas                   5.26                   4.95   \n",
       "3  Pequeñas Empresas                  49.74                  51.10   \n",
       "4     Micro Empresas                  19.27                  18.76   \n",
       "5       Hipotecarios                   4.36                   4.49   \n",
       "6            Consumo                  20.69                  19.96   \n",
       "\n",
       "  Participación Dic24  Variacion anual  Variacion mensual  \n",
       "0                0.66            26.92              17.86  \n",
       "1                0.24            50.00              33.33  \n",
       "2                0.67           -87.26             -86.46  \n",
       "3               63.26            27.18              23.80  \n",
       "4               11.25           -41.62             -40.03  \n",
       "5                4.34            -0.46              -3.34  \n",
       "6               19.57            -5.41              -1.95  "
      ]
     },
     "execution_count": 34,
     "metadata": {},
     "output_type": "execute_result"
    }
   ],
   "source": [
    "tabla4"
   ]
  },
  {
   "cell_type": "markdown",
   "id": "c618bb0a-9f09-425d-b9f4-7a1dc298989c",
   "metadata": {},
   "source": [
    "##### Pequeñas Empresas: La participación de este segmento pasó de 49.74% en diciembre 2023 a 63.26% en diciembre 2024, lo que indica un crecimiento significativo.\n",
    "\n",
    "##### Medianas Empresas: La participación cayó de 5.26% en diciembre 2023 a 0.67% en diciembre 2024, lo que sugiere una fuerte migración de clientes hacia el segmento de pequeñas empresas.\n",
    "\n",
    "##### Microempresas: La participación disminuyó de 19.27% a 11.25%, lo que podría indicar que estos clientes han sido absorbidos por pequeñas empresas o han salido del sistema financiero.\n",
    "\n",
    "##### Corporativos y Grandes Empresas: Ambos segmentos experimentaron un aumento en su participación, con variaciones de 26.92% y 50.00% interanualmente, respectivamente."
   ]
  },
  {
   "cell_type": "code",
   "execution_count": 36,
   "id": "1f15b89e-369b-42a2-a636-bd68b0f89dfd",
   "metadata": {},
   "outputs": [
    {
     "data": {
      "image/png": "[encoded data removed]",
      "text/plain": [
       "<Figure size 1800x700 with 3 Axes>"
      ]
     },
     "metadata": {},
     "output_type": "display_data"
    }
   ],
   "source": [
    "import matplotlib.pyplot as plt\n",
    "import seaborn as sns  # Importar seaborn\n",
    "\n",
    "# Configuración de la figura\n",
    "fig, axes = plt.subplots(1, 3, figsize=(18, 7))  # 1 fila, 3 columnas para los 3 gráficos\n",
    "fig.suptitle('Participación de la Cartera por Tipo de Empresa', fontsize=16)\n",
    "\n",
    "# Lista de columnas a graficar\n",
    "columnas = ['Participación a Dic-23', 'Participación a Sep-24', 'Participación Dic24']\n",
    "\n",
    "# Definir las categorías a agrupar como \"Otros\"\n",
    "categorias_a_agrupar = ['Corporativos', 'Grandes Empresas']\n",
    "\n",
    "# Crear un gráfico de pastel para cada columna\n",
    "for i, col in enumerate(columnas):\n",
    "    # Extraer los valores y las etiquetas\n",
    "    valores = tabla4[col].str.replace(',', '').astype(float)  # Convertir a float\n",
    "    etiquetas = tabla4['Tipo Empresa']\n",
    "    \n",
    "    # Agrupar las categorías específicas en \"Otros\"\n",
    "    valores_agrupados = []\n",
    "    etiquetas_agrupadas = []\n",
    "    otros_valor = 0  # Acumulador para la categoría \"Otros\"\n",
    "    \n",
    "    for valor, etiqueta in zip(valores, etiquetas):\n",
    "        if etiqueta in categorias_a_agrupar:\n",
    "            otros_valor += valor  # Sumar al acumulador de \"Otros\"\n",
    "        else:\n",
    "            valores_agrupados.append(valor)  # Mantener el valor original\n",
    "            etiquetas_agrupadas.append(etiqueta)  # Mantener la etiqueta original\n",
    "    \n",
    "    # Agregar \"Otros\" si hay valores acumulados\n",
    "    if otros_valor > 0:\n",
    "        valores_agrupados.append(otros_valor)\n",
    "        etiquetas_agrupadas.append('Otros')\n",
    "    \n",
    "    # Crear el gráfico de pastel\n",
    "    wedges, texts, autotexts = axes[i].pie(\n",
    "        valores_agrupados,\n",
    "        autopct='%1.1f%%',  # Mostrar porcentajes\n",
    "        startangle=90,       # Rotar el gráfico\n",
    "        colors=sns.color_palette('pastel', len(valores_agrupados)),  # Usar colores pastel\n",
    "        pctdistance=0.85,    # Distancia de los porcentajes al centro\n",
    "        labeldistance=None    # No mostrar etiquetas dentro del gráfico\n",
    "    )\n",
    "    axes[i].set_title(col)  # Título del gráfico\n",
    "\n",
    "# Crear una sola leyenda fuera de los gráficos\n",
    "fig.legend(\n",
    "    wedges,                  # Elementos de la leyenda (las porciones del pastel)\n",
    "    etiquetas_agrupadas,     # Etiquetas de la leyenda\n",
    "    title=\"Tipo de Empresa\", # Título de la leyenda\n",
    "    loc=\"center right\",      # Ubicación de la leyenda\n",
    "    bbox_to_anchor=(1.1, 0.5)  # Ajustar posición fuera de los gráficos\n",
    ")\n",
    "\n",
    "# Ajustar el layout\n",
    "a1 = plt.tight_layout()\n",
    "plt.show()"
   ]
  },
  {
   "cell_type": "markdown",
   "id": "79eb3b9c-fddc-497e-bbe7-795eb9e7dde1",
   "metadata": {
    "jp-MarkdownHeadingCollapsed": true
   },
   "source": [
    "##### 4. Evolución de la Morosidad"
   ]
  },
  {
   "cell_type": "code",
   "execution_count": 38,
   "id": "2b81484e-5621-4f66-86c9-9e8b7407c6a2",
   "metadata": {},
   "outputs": [
    {
     "data": {
      "text/plain": [
       "Index(['FECHA', 'Caja Municipal', 'TIPO_CREDITO', 'Atrasados',\n",
       "       'Refinanc. Y Reestruct.', 'Vigentes', 'SALDO', 'Numero_Deudores',\n",
       "       'Normal', 'CPP', 'Deficiente', 'Dudoso', 'Pérdida', 'Miles S/',\n",
       "       'Morosidad SBS'],\n",
       "      dtype='object')"
      ]
     },
     "execution_count": 38,
     "metadata": {},
     "output_type": "execute_result"
    }
   ],
   "source": [
    "df.columns"
   ]
  },
  {
   "cell_type": "code",
   "execution_count": 39,
   "id": "ac62eaa1-342f-49fa-807b-f56853227a46",
   "metadata": {},
   "outputs": [],
   "source": [
    "tm_dic23 = {}\n",
    "for m in range(7):\n",
    "    analisis = df[(df[df.columns[1]] == cajas[-2]) & (df[df.columns[2]] == tipo_credito[m]) & (df[df.columns[0]] == '2023-12-01')][[df.columns[14]]].iloc[0,0]\n",
    "    tm_dic23[m] = analisis\n",
    "tm_dic23_1 = list(tm_dic23.values())\n",
    "\n",
    "tm_sep24 = {}\n",
    "for m in range(7):\n",
    "    analisis = df[(df[df.columns[1]] == cajas[-2]) & (df[df.columns[2]] == tipo_credito[m]) & (df[df.columns[0]] == '2024-09-01')][[df.columns[14]]].iloc[0,0]\n",
    "    tm_sep24[m] = analisis\n",
    "tm_sep24_1 = list(tm_sep24.values())\n",
    "\n",
    "tm_dic24 = {}\n",
    "for m in range(7):\n",
    "    analisis = df[(df[df.columns[1]] == cajas[-2]) & (df[df.columns[2]] == tipo_credito[m]) & (df[df.columns[0]] == '2024-12-01')][[df.columns[14]]].iloc[0,0]\n",
    "    tm_dic24[m] = analisis\n",
    "tm_dic24_1 = list(tm_dic24.values())\n"
   ]
  },
  {
   "cell_type": "code",
   "execution_count": 40,
   "id": "213c5d8a-6271-4014-9420-38041290d79f",
   "metadata": {},
   "outputs": [
    {
     "name": "stderr",
     "output_type": "stream",
     "text": [
      "C:\\Users\\USER\\AppData\\Local\\Temp\\ipykernel_8388\\2238224856.py:9: FutureWarning: DataFrame.applymap has been deprecated. Use DataFrame.map instead.\n",
      "  tabla5[[tabla5.columns[1], tabla5.columns[2], tabla5.columns[3]]] = tabla5[[tabla5.columns[1], tabla5.columns[2], tabla5.columns[3]]].applymap(lambda x: f\"{x:,.2f}\")\n"
     ]
    }
   ],
   "source": [
    "#GENERAMOS TABLA DE RESULTADOS\n",
    "tabla5 = pd.DataFrame({'Tipo Empresa':tipo_credito, \n",
    "                       'Morosidad Dic-23':tm_dic23_1, \n",
    "                       'Morosidad Sep-24':tm_sep24_1, \n",
    "                       'Morosidad Dic24': tm_dic24_1})\n",
    "\n",
    "tabla5['Variacion anual'] = round(((tabla5[tabla5.columns[3]] / tabla5[tabla5.columns[1]]) - 1)*100,2)\n",
    "tabla5['Variacion mensual'] = round(((tabla5[tabla5.columns[3]] / tabla5[tabla5.columns[2]]) - 1)*100,2)\n",
    "tabla5[[tabla5.columns[1], tabla5.columns[2], tabla5.columns[3]]] = tabla5[[tabla5.columns[1], tabla5.columns[2], tabla5.columns[3]]].applymap(lambda x: f\"{x:,.2f}\")\n",
    "# Convertir la columna en una categoría con el orden específico\n",
    "tabla5[\"Tipo Empresa\"] = pd.Categorical(tabla5[\"Tipo Empresa\"], categories=orden_deseado, ordered=True)\n",
    "\n",
    "# Ordenar el DataFrame\n",
    "tabla5 = tabla5.sort_values(\"Tipo Empresa\").reset_index(drop=True)"
   ]
  },
  {
   "cell_type": "markdown",
   "id": "f062bf10-a742-406f-a30b-04f2077cccd7",
   "metadata": {},
   "source": [
    "##### La morosidad es un indicador clave para evaluar la salud financiera de las Cajas Municipales, ya que refleja la capacidad de los clientes para cumplir con sus obligaciones crediticias. En este apartado, se analiza la evolución de la morosidad en los diferentes segmentos de la cartera de créditos durante el último trimestre de 2024, considerando el impacto de la Resolución SBS N° 2368-2023. A continuación, se presenta un análisis detallado de la morosidad en los principales segmentos de la cartera de créditos:"
   ]
  },
  {
   "cell_type": "code",
   "execution_count": 42,
   "id": "ce572bf1-3259-4a7c-97ab-1f74bc7befb9",
   "metadata": {},
   "outputs": [
    {
     "data": {
      "text/html": [
       "<div>\n",
       "<style scoped>\n",
       "    .dataframe tbody tr th:only-of-type {\n",
       "        vertical-align: middle;\n",
       "    }\n",
       "\n",
       "    .dataframe tbody tr th {\n",
       "        vertical-align: top;\n",
       "    }\n",
       "\n",
       "    .dataframe thead th {\n",
       "        text-align: right;\n",
       "    }\n",
       "</style>\n",
       "<table border=\"1\" class=\"dataframe\">\n",
       "  <thead>\n",
       "    <tr style=\"text-align: right;\">\n",
       "      <th></th>\n",
       "      <th>Tipo Empresa</th>\n",
       "      <th>Morosidad Dic-23</th>\n",
       "      <th>Morosidad Sep-24</th>\n",
       "      <th>Morosidad Dic24</th>\n",
       "      <th>Variacion anual</th>\n",
       "      <th>Variacion mensual</th>\n",
       "    </tr>\n",
       "  </thead>\n",
       "  <tbody>\n",
       "    <tr>\n",
       "      <th>0</th>\n",
       "      <td>Corporativos</td>\n",
       "      <td>0.00</td>\n",
       "      <td>0.00</td>\n",
       "      <td>0.00</td>\n",
       "      <td>NaN</td>\n",
       "      <td>NaN</td>\n",
       "    </tr>\n",
       "    <tr>\n",
       "      <th>1</th>\n",
       "      <td>Grandes Empresas</td>\n",
       "      <td>0.91</td>\n",
       "      <td>0.92</td>\n",
       "      <td>0.09</td>\n",
       "      <td>-90.61</td>\n",
       "      <td>-90.72</td>\n",
       "    </tr>\n",
       "    <tr>\n",
       "      <th>2</th>\n",
       "      <td>Medianas Empresas</td>\n",
       "      <td>14.03</td>\n",
       "      <td>12.47</td>\n",
       "      <td>9.89</td>\n",
       "      <td>-29.50</td>\n",
       "      <td>-20.70</td>\n",
       "    </tr>\n",
       "    <tr>\n",
       "      <th>3</th>\n",
       "      <td>Pequeñas Empresas</td>\n",
       "      <td>6.35</td>\n",
       "      <td>7.32</td>\n",
       "      <td>6.41</td>\n",
       "      <td>0.88</td>\n",
       "      <td>-12.47</td>\n",
       "    </tr>\n",
       "    <tr>\n",
       "      <th>4</th>\n",
       "      <td>Micro Empresas</td>\n",
       "      <td>4.98</td>\n",
       "      <td>5.68</td>\n",
       "      <td>8.45</td>\n",
       "      <td>69.68</td>\n",
       "      <td>48.77</td>\n",
       "    </tr>\n",
       "    <tr>\n",
       "      <th>5</th>\n",
       "      <td>Hipotecarios</td>\n",
       "      <td>4.05</td>\n",
       "      <td>4.31</td>\n",
       "      <td>4.33</td>\n",
       "      <td>7.02</td>\n",
       "      <td>0.50</td>\n",
       "    </tr>\n",
       "    <tr>\n",
       "      <th>6</th>\n",
       "      <td>Consumo</td>\n",
       "      <td>3.28</td>\n",
       "      <td>3.85</td>\n",
       "      <td>3.69</td>\n",
       "      <td>12.35</td>\n",
       "      <td>-4.12</td>\n",
       "    </tr>\n",
       "  </tbody>\n",
       "</table>\n",
       "</div>"
      ],
      "text/plain": [
       "        Tipo Empresa Morosidad Dic-23 Morosidad Sep-24 Morosidad Dic24  \\\n",
       "0       Corporativos             0.00             0.00            0.00   \n",
       "1   Grandes Empresas             0.91             0.92            0.09   \n",
       "2  Medianas Empresas            14.03            12.47            9.89   \n",
       "3  Pequeñas Empresas             6.35             7.32            6.41   \n",
       "4     Micro Empresas             4.98             5.68            8.45   \n",
       "5       Hipotecarios             4.05             4.31            4.33   \n",
       "6            Consumo             3.28             3.85            3.69   \n",
       "\n",
       "   Variacion anual  Variacion mensual  \n",
       "0              NaN                NaN  \n",
       "1           -90.61             -90.72  \n",
       "2           -29.50             -20.70  \n",
       "3             0.88             -12.47  \n",
       "4            69.68              48.77  \n",
       "5             7.02               0.50  \n",
       "6            12.35              -4.12  "
      ]
     },
     "execution_count": 42,
     "metadata": {},
     "output_type": "execute_result"
    }
   ],
   "source": [
    "tabla5"
   ]
  },
  {
   "cell_type": "markdown",
   "id": "e3a62fc6-2fef-430e-b841-addf0ebde9e5",
   "metadata": {},
   "source": [
    "##### 4.1 Análisis de la Morosidad por Segmento\n",
    "\n",
    "##### - Medianas Empresas: La morosidad en este segmento disminuyó de 12.47% a 9.89%, lo que representa un disminución del 20.70%. Esta tendencia confirma una mejora significativa en la capacidad de pago de las empresas que permanecen en este segmento, posiblemente debido a una mejor gestión de riesgos y a la reclasificación de clientes con mayores dificultades financieras..\n",
    "\n",
    "##### - Pequeñas Empresas: La morosidad en este segmento se redujo de 7.32% a 6.41%, con una variación del -12.47%. Este descenso indica una mejora en la estabilidad financiera de las pequeñas empresas, aunque es importante seguir monitoreando este segmento debido a la posible presión generada por la absorción de clientes retipificados.\n",
    "\n",
    "##### - Microempresas: La morosidad en este segmento aumentó de 5.68% a 8.45%, con una variación del 48.77%. Este incremento es alarmante y sugiere que las microempresas están enfrentando mayores dificultades financieras, posiblemente agravadas por la reclasificación de clientes con mayores riesgos y las condiciones económicas adversas."
   ]
  },
  {
   "cell_type": "markdown",
   "id": "a2017459-bd63-4b2c-9a69-ef88e761c07c",
   "metadata": {},
   "source": [
    "##### 4.2 Comparación Interanual de la Morosidad\n",
    "\n",
    "##### - Medianas Empresas: La reducción del 29.50% en la morosidad de este segmento es un resultado positivo y refleja una mejora significativa en la capacidad de pago de las empresas que permanecen en este segmento. Sin embargo, es importante seguir monitoreando este segmento para asegurar que la mejora se mantenga a largo plazo.\n",
    "\n",
    "##### - Pequeñas Empresas: La estabilidad en la morosidad de este segmento es un resultado alentador, pero es importante no subestimar los desafíos que podrían surgir en el futuro, especialmente debido a la absorción de clientes reclasificados desde las medianas empresas..\n",
    "\n",
    "##### - Microempresas: El aumento del 69.68% en la morosidad de este segmento es alarmante y requiere una atención inmediata. Es fundamental implementar medidas para apoyar a estas empresas y evitar que la morosidad continúe aumentando."
   ]
  },
  {
   "cell_type": "markdown",
   "id": "0e382558-4671-4ede-9389-ce8273139d18",
   "metadata": {},
   "source": [
    "#### Conclusiones"
   ]
  },
  {
   "cell_type": "markdown",
   "id": "a15aebbb-8d9e-4dee-8d3e-b68d10b77221",
   "metadata": {},
   "source": [
    "##### El análisis de la evolución de la cartera de créditos y la morosidad en las Cajas Municipales durante el último trimestre de 2024, bajo el impacto de la Resolución SBS N° 2368-2023, revela tendencias significativas en la estructura de la cartera y en la capacidad de pago de los clientes. A continuación, se presentan las conclusiones clave basadas en los datos proporcionados:\n",
    "\n",
    "##### 1. Reclasificación de Clientes y Ajuste en la Estructura de la Cartera\n",
    "\n",
    "##### - Migración Masiva de Medianas a Pequeñas Empresas: La disminución del saldo en el segmento de Medianas Empresas (-86.89%) y el aumento en el segmento de Pequeñas Empresas (+26.21%) confirman una migración masiva de clientes de medianas a pequeñas empresas. Esto ha generado un ajuste significativo en la estructura de la cartera, consolidando a las pequeñas empresas como el segmento dominante (63.26% de participación en diciembre 2024).\n",
    "\n",
    "##### - Reducción en Microempresas: El saldo de Microempresas disminuyó en un 38.16%, lo que sugiere que muchos clientes de este segmento han migrado a otros segmentos o han salido del sistema financiero. Esto podría estar relacionado con la búsqueda de mejores condiciones crediticias o con la reclasificación bajo la nueva normativa.\n",
    "\n",
    "##### 2. Impacto en la Morosidad\n",
    "\n",
    "##### - Mejora en Medianas Empresas: La morosidad en el segmento de Medianas Empresas disminuyó significativamente, tanto trimestralmente (-20.70%) como interanualmente (-29.50%). Esto refleja una mejora en la capacidad de pago de las empresas que permanecen en este segmento, posiblemente debido a la reclasificación de clientes con mayores dificultades financieras hacia otros segmentos y a una mejor gestión de riesgos por parte de las Cajas Municipales.\n",
    "\n",
    "##### - Estabilidad en Pequeñas Empresas: A pesar de la absorción de clientes reclasificados, la morosidad en el segmento de Pequeñas Empresas se redujo ligeramente (-12.47% trimestralmente) y se mantuvo estable interanualmente (+0.88%). Esto indica que las pequeñas empresas están gestionando adecuadamente sus obligaciones, aunque es importante monitorear este segmento debido a la presión generada por la migración de clientes.\n",
    "\n",
    "##### - Aumento Alarmante en Microempresas: La morosidad en el segmento de Microempresas aumentó significativamente, tanto trimestralmente (+48.77%) como interanualmente (+69.68%). Este incremento es preocupante y sugiere que las microempresas están enfrentando mayores dificultades financieras, posiblemente agravadas por la reclasificación de clientes con mayores riesgos y las condiciones económicas adversas."
   ]
  }
 ],
 "metadata": {
  "kernelspec": {
   "display_name": "Python [conda env:base] *",
   "language": "python",
   "name": "conda-base-py"
  },
  "language_info": {
   "codemirror_mode": {
    "name": "ipython",
    "version": 3
   },
   "file_extension": ".py",
   "mimetype": "text/x-python",
   "name": "python",
   "nbconvert_exporter": "python",
   "pygments_lexer": "ipython3",
   "version": "3.12.7"
  }
 },
 "nbformat": 4,
 "nbformat_minor": 5
}
